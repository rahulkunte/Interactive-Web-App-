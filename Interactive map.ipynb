{
 "cells": [
  {
   "cell_type": "markdown",
   "id": "f2b74d47",
   "metadata": {},
   "source": [
    "## Creating an interactive map of india with population parameters"
   ]
  },
  {
   "cell_type": "markdown",
   "id": "96adbd00",
   "metadata": {},
   "source": [
    "A mapbox access token is not required. "
   ]
  },
  {
   "cell_type": "code",
   "execution_count": null,
   "id": "dca60810",
   "metadata": {},
   "outputs": [],
   "source": [
    "# install the required packages\n",
    "# !pip install dash\n",
    "# !pip install geopandas\n",
    "# !pip install dash-bootstrap-components\n",
    "# !pip install openpyxl\n",
    "# !pip install geojson"
   ]
  },
  {
   "cell_type": "code",
   "execution_count": null,
   "id": "7928f1b3",
   "metadata": {},
   "outputs": [],
   "source": [
    "# import all the libraries\n",
    "from dash import html\n",
    "import plotly.express as px\n",
    "import geopandas as gpd\n",
    "from dash import Dash, dcc, Input, Output\n",
    "import dash_bootstrap_components as dbc\n",
    "import json\n",
    "import geojson\n",
    "import pandas as pd"
   ]
  },
  {
   "cell_type": "markdown",
   "id": "d264fe64",
   "metadata": {},
   "source": [
    "### Reading the shape file that contains states\n",
    "1. Downloaded from [here](https://www.diva-gis.org/gdata)"
   ]
  },
  {
   "cell_type": "code",
   "execution_count": null,
   "id": "1521868e",
   "metadata": {},
   "outputs": [],
   "source": [
    "geo_df = gpd.read_file(\"D:\\\\Rahul\\\\Projects\\\\India interactive app\\\\IND_adm1.shp\")"
   ]
  },
  {
   "cell_type": "markdown",
   "id": "f0a7ac47",
   "metadata": {},
   "source": [
    "## \n",
    "Using the geopandas plot function for a dataframe can give a brief look at thow the shape file translates to a map "
   ]
  },
  {
   "cell_type": "code",
   "execution_count": null,
   "id": "3083c61c",
   "metadata": {},
   "outputs": [],
   "source": [
    "geo_df.plot()"
   ]
  },
  {
   "cell_type": "markdown",
   "id": "aaa986b1",
   "metadata": {},
   "source": [
    "### We will need a geojson file to use dash with mapbox functions\n",
    "\n",
    "\n",
    "[Online convertor](https://products.aspose.app/gis/conversion/shapefile-to-geojson)"
   ]
  },
  {
   "cell_type": "code",
   "execution_count": null,
   "id": "d461216f",
   "metadata": {},
   "outputs": [],
   "source": [
    "#"
   ]
  },
  {
   "cell_type": "code",
   "execution_count": null,
   "id": "f15a9118",
   "metadata": {
    "scrolled": true
   },
   "outputs": [],
   "source": [
    "with open(\"D:\\\\Rahul\\\\Projects\\\\India interactive app\\\\IND_adm1.geojson\", encoding='utf8') as f:\n",
    "    gj_shp = json.load(f)"
   ]
  },
  {
   "cell_type": "code",
   "execution_count": null,
   "id": "c08682ce",
   "metadata": {},
   "outputs": [],
   "source": []
  },
  {
   "cell_type": "code",
   "execution_count": null,
   "id": "7827d98e",
   "metadata": {},
   "outputs": [],
   "source": [
    "gj_shp['features'][0]"
   ]
  },
  {
   "cell_type": "markdown",
   "id": "1e1884e0",
   "metadata": {},
   "source": [
    "## Reading the required files\n",
    "---\n",
    "Downloaded from [here](https://censusindia.gov.in/census.website/data/population-finder)"
   ]
  },
  {
   "cell_type": "code",
   "execution_count": null,
   "id": "8b8e65e4",
   "metadata": {},
   "outputs": [],
   "source": [
    "popdata = pd.read_excel(\"D:\\\\Rahul\\\\Projects\\\\India interactive app\\\\2011-IndiaState-0000.xlsx\")"
   ]
  },
  {
   "cell_type": "code",
   "execution_count": null,
   "id": "5a8f76ba",
   "metadata": {},
   "outputs": [],
   "source": [
    "popdata.head()"
   ]
  },
  {
   "cell_type": "markdown",
   "id": "361fcc4b",
   "metadata": {},
   "source": [
    "###\n",
    "A lot of columns are not required, we only focus on the state name and the total population"
   ]
  },
  {
   "cell_type": "code",
   "execution_count": null,
   "id": "0cf0feab",
   "metadata": {},
   "outputs": [],
   "source": [
    "popdata.drop([0,1,2],axis=0,inplace = True)\n",
    "popdata.drop(popdata[popdata['TRU'] != 'Total'].index, axis = 0, inplace=True)\n",
    "\n",
    "# We drop all rows except name and total population\n",
    "popdata.drop(popdata.columns.difference(['Name','TOT_P']),axis=1, inplace=True)"
   ]
  },
  {
   "cell_type": "code",
   "execution_count": null,
   "id": "a2901d24",
   "metadata": {},
   "outputs": [],
   "source": [
    "popdata.head()"
   ]
  },
  {
   "cell_type": "markdown",
   "id": "df2b7bb8",
   "metadata": {},
   "source": [
    "##\n",
    "The shape file has the state names under properties->NAME_1\n",
    "\n",
    "However, the format is different from the one in the data frame. We need to change the format"
   ]
  },
  {
   "cell_type": "code",
   "execution_count": null,
   "id": "94fb8561",
   "metadata": {
    "scrolled": true
   },
   "outputs": [],
   "source": [
    "# We can look at the difference in formats here\n",
    "l = []\n",
    "for i in gj_shp['features']:\n",
    "    print(i['properties']['NAME_1'])\n",
    "    l.append(i['properties']['NAME_1'])"
   ]
  },
  {
   "cell_type": "code",
   "execution_count": null,
   "id": "0063ec7d",
   "metadata": {},
   "outputs": [],
   "source": [
    "set([str.lower(i) for i in popdata[popdata['Name']!='ANDHRA PRADESH']['Name']]) - set([str.lower(j) for j in l])"
   ]
  },
  {
   "cell_type": "markdown",
   "id": "68743b42",
   "metadata": {},
   "source": [
    "##\n",
    "Changing the mismatching names"
   ]
  },
  {
   "cell_type": "code",
   "execution_count": null,
   "id": "25e4ba9a",
   "metadata": {},
   "outputs": [],
   "source": [
    "popdata.loc[popdata['Name']=='NCT OF DELHI', 'Name'] = 'DELHI'\n",
    "popdata.loc[popdata['Name']=='ODISHA','Name'] = 'ORISSA'\n",
    "popdata.loc[popdata['Name']=='UTTARAKHAND','Name'] = 'UTTARANCHAL'\n",
    "# popdata.loc[popdata['Name'].str.contains('&'),'Name'] = [str(i).replace('&','and') for i in popdata.loc[popdata['Name'].str.contains('&')]['Name']]"
   ]
  },
  {
   "cell_type": "code",
   "execution_count": null,
   "id": "fd9b5c43",
   "metadata": {},
   "outputs": [],
   "source": [
    "popdata.loc[popdata['Name'] == 'ANDAMAN & NICOBAR ISLANDS', 'Name'] = 'ANDAMAN & NICOBAR'"
   ]
  },
  {
   "cell_type": "code",
   "execution_count": null,
   "id": "659e7ef6",
   "metadata": {},
   "outputs": [],
   "source": [
    "popdata['Name']"
   ]
  },
  {
   "cell_type": "markdown",
   "id": "1c2a9511",
   "metadata": {},
   "source": [
    "### \n",
    "Because the data frame is older than the shape file, it does not have information on Telangana, a state separated from Andhra Pradesh in 2014\n",
    "\n",
    "We need to add a new row for Telangana. For simplicity, I am making all the figures half of Andhra Pradesh"
   ]
  },
  {
   "cell_type": "code",
   "execution_count": null,
   "id": "39859fae",
   "metadata": {},
   "outputs": [],
   "source": [
    "popdata.loc[len(popdata)] = ['TELANGANA', 42290388]"
   ]
  },
  {
   "cell_type": "code",
   "execution_count": null,
   "id": "25d40613",
   "metadata": {},
   "outputs": [],
   "source": [
    "# Reduce the statistic value for Andhra Pradesh by half\n",
    "popdata.loc[popdata['Name'] == 'ANDHRA PRADESH','TOT_P'] = 42290389"
   ]
  },
  {
   "cell_type": "code",
   "execution_count": null,
   "id": "4b7dda36",
   "metadata": {},
   "outputs": [],
   "source": [
    "popdata.sample(10)"
   ]
  },
  {
   "cell_type": "markdown",
   "id": "458b13e1",
   "metadata": {},
   "source": [
    "##\n",
    "The string format has to be changed, so we first use the ```title()``` function"
   ]
  },
  {
   "cell_type": "code",
   "execution_count": null,
   "id": "1eeb4353",
   "metadata": {
    "scrolled": true
   },
   "outputs": [],
   "source": [
    "popdata['Name']=[i.title() for i in popdata['Name']]"
   ]
  },
  {
   "cell_type": "code",
   "execution_count": null,
   "id": "336b7fe2",
   "metadata": {},
   "outputs": [],
   "source": [
    "popdata.sample(10)"
   ]
  },
  {
   "cell_type": "code",
   "execution_count": null,
   "id": "268d1242",
   "metadata": {},
   "outputs": [],
   "source": []
  },
  {
   "cell_type": "code",
   "execution_count": null,
   "id": "72cda047",
   "metadata": {},
   "outputs": [],
   "source": [
    "# Also, the '&' symbol has to be replaces with 'and'\n",
    "popdata.loc[popdata['Name'].str.contains('&'),'Name'] = [str(i).replace('&','and') for i in popdata.loc[popdata['Name'].str.contains('&')]['Name']]"
   ]
  },
  {
   "cell_type": "code",
   "execution_count": null,
   "id": "df0bdd6c",
   "metadata": {},
   "outputs": [],
   "source": []
  },
  {
   "cell_type": "markdown",
   "id": "721743db",
   "metadata": {},
   "source": [
    "### A simple choropleth mapbox for the given data set "
   ]
  },
  {
   "cell_type": "code",
   "execution_count": null,
   "id": "1fe7e0fe",
   "metadata": {},
   "outputs": [],
   "source": [
    "fig = px.choropleth_mapbox(popdata, geojson=gj_shp, featureidkey='properties.NAME_1', \n",
    "                          locations = 'Name', color='TOT_P',  mapbox_style=\"carto-positron\",\n",
    "                          zoom=3, center = {\"lat\": 20.593684, \"lon\": 78.96288},\n",
    "                          opacity=0.5)\n",
    "fig.show()"
   ]
  },
  {
   "cell_type": "code",
   "execution_count": null,
   "id": "18d08cca",
   "metadata": {},
   "outputs": [],
   "source": []
  },
  {
   "cell_type": "markdown",
   "id": "74c591e0",
   "metadata": {},
   "source": [
    "### Reading more data"
   ]
  },
  {
   "cell_type": "code",
   "execution_count": null,
   "id": "fabfd164",
   "metadata": {},
   "outputs": [],
   "source": [
    "data_full = pd.read_csv(\"D:\\\\Rahul\\\\Projects\\\\India interactive app\\\\RBI DATA states_wise_population_Income.csv\")"
   ]
  },
  {
   "cell_type": "code",
   "execution_count": null,
   "id": "348c7177",
   "metadata": {},
   "outputs": [],
   "source": [
    "data_full.head()"
   ]
  },
  {
   "cell_type": "code",
   "execution_count": null,
   "id": "d0e6b58d",
   "metadata": {},
   "outputs": [],
   "source": [
    "data_full['States_Union Territories'].unique()"
   ]
  },
  {
   "cell_type": "markdown",
   "id": "b5b25db7",
   "metadata": {},
   "source": [
    "Some of the union territories are missing from this data set, we will have to add dummy data"
   ]
  },
  {
   "cell_type": "code",
   "execution_count": null,
   "id": "87e4001f",
   "metadata": {},
   "outputs": [],
   "source": [
    "data_full.columns"
   ]
  },
  {
   "cell_type": "markdown",
   "id": "149974c6",
   "metadata": {},
   "source": [
    "We choose only a select few columns from the entire data frame"
   ]
  },
  {
   "cell_type": "code",
   "execution_count": null,
   "id": "c1c65176",
   "metadata": {},
   "outputs": [],
   "source": [
    "df_compressed = data_full[['States_Union Territories', '2011 -UNEMP', '2011 -Poverty', '2011-12-INC']]"
   ]
  },
  {
   "cell_type": "code",
   "execution_count": null,
   "id": "ead4da80",
   "metadata": {},
   "outputs": [],
   "source": [
    "set([str.lower(j) for j in popdata['Name']]) - set([str.lower(i) for i in df_compressed['States_Union Territories']])"
   ]
  },
  {
   "cell_type": "code",
   "execution_count": null,
   "id": "c11cb3dc",
   "metadata": {},
   "outputs": [],
   "source": [
    "df_compressed.sample(10)"
   ]
  },
  {
   "cell_type": "code",
   "execution_count": null,
   "id": "0e077896",
   "metadata": {},
   "outputs": [],
   "source": [
    "# Reformating some of the state names\n",
    "df_compressed.loc[df_compressed['States_Union Territories']=='Andaman and Nicobar Islands','States_Union Territories'] = 'Andaman and Nicobar'\n",
    "df_compressed.loc[df_compressed['States_Union Territories']=='Odisha','States_Union Territories'] = 'Orissa'\n",
    "df_compressed.loc[df_compressed['States_Union Territories']=='Uttarakhand','States_Union Territories'] = 'Uttaranchal'"
   ]
  },
  {
   "cell_type": "code",
   "execution_count": null,
   "id": "e2ed7bdb",
   "metadata": {},
   "outputs": [],
   "source": [
    "df_compressed.sample(10)"
   ]
  },
  {
   "cell_type": "code",
   "execution_count": null,
   "id": "4bd3b063",
   "metadata": {},
   "outputs": [],
   "source": []
  },
  {
   "cell_type": "code",
   "execution_count": null,
   "id": "b91f4217",
   "metadata": {},
   "outputs": [],
   "source": [
    "# Adding Telangana to the data set and reducing values from Andhra Pradesh\n",
    "df_compressed.loc[len(df_compressed)] = ['Telangana', 6, 4.6, 32386]\n",
    "df_compressed.loc[df_compressed['States_Union Territories'] == 'Andhra Pradesh'] = ['Andhra Pradesh', 6, 4.6, 32387]"
   ]
  },
  {
   "cell_type": "code",
   "execution_count": null,
   "id": "a6f43b0b",
   "metadata": {},
   "outputs": [],
   "source": [
    "df_compressed"
   ]
  },
  {
   "cell_type": "code",
   "execution_count": null,
   "id": "f1b49cad",
   "metadata": {},
   "outputs": [],
   "source": [
    "set([str.lower(j) for j in popdata['Name']]) - set([str.lower(i) for i in df_compressed['States_Union Territories']])"
   ]
  },
  {
   "cell_type": "markdown",
   "id": "c80fc90d",
   "metadata": {},
   "source": [
    "These three union territories have to be added"
   ]
  },
  {
   "cell_type": "code",
   "execution_count": null,
   "id": "1567e0ab",
   "metadata": {},
   "outputs": [],
   "source": [
    "df_compressed.loc[len(df_compressed)] = ['Dadra and Nagar Haveli', 0, 0, 0]\n",
    "df_compressed.loc[len(df_compressed)] = ['Daman and Diu', 0, 0, 0]\n",
    "df_compressed.loc[len(df_compressed)] = ['Lakshadweep', 0, 0, 0]"
   ]
  },
  {
   "cell_type": "code",
   "execution_count": null,
   "id": "fc56f85f",
   "metadata": {},
   "outputs": [],
   "source": [
    "# Rename the column to merge the dataframes \n",
    "df_compressed.rename(columns = {'States_Union Territories':'Name'}, inplace= True)"
   ]
  },
  {
   "cell_type": "code",
   "execution_count": null,
   "id": "138148c0",
   "metadata": {},
   "outputs": [],
   "source": [
    "df_merged = pd.merge(df_compressed, popdata, on='Name')"
   ]
  },
  {
   "cell_type": "code",
   "execution_count": null,
   "id": "1c7bccb1",
   "metadata": {},
   "outputs": [],
   "source": [
    "df_merged.head()"
   ]
  },
  {
   "cell_type": "markdown",
   "id": "26cc277f",
   "metadata": {},
   "source": [
    "### Dash app with interactivity based on the columns of the merged dataframe"
   ]
  },
  {
   "cell_type": "code",
   "execution_count": null,
   "id": "081f075b",
   "metadata": {},
   "outputs": [],
   "source": [
    "app = Dash(__name__)\n",
    "\n",
    "mytitle = dcc.Markdown('Indian Demographics')\n",
    "mygraph = dcc.Graph()\n",
    "mydropdown = dcc.Dropdown(options = [i for i in df_merged.columns[1:]], value='TOT_P',\n",
    "                          style={'align-items': 'center', 'justify-content': 'center', 'width':'40%'})\n",
    "\n",
    "\n",
    "app.layout = dbc.Container([mytitle, mydropdown, mygraph])\n",
    "\n",
    "@app.callback(\n",
    "    Output(mygraph, 'figure'),\n",
    "    Input(mydropdown, 'value')\n",
    ")\n",
    "def update_graph(selected_value):\n",
    "    \n",
    "    fig = px.choropleth_mapbox(df_merged, geojson=gj_shp, featureidkey='properties.NAME_1', \n",
    "                          locations = 'Name', color=selected_value,  mapbox_style=\"carto-positron\",\n",
    "                          zoom=3, center = {\"lat\": 20.593684, \"lon\": 78.96288},\n",
    "                          opacity=0.5)\n",
    "    fig.update_layout(margin={\"r\":0,\"t\":0,\"l\":0,\"b\":0})\n",
    "    \n",
    "    return fig\n",
    "\n",
    "app.run_server(debug=True, jupyter_mode = 'external')\n"
   ]
  },
  {
   "cell_type": "code",
   "execution_count": null,
   "id": "f30cfe21",
   "metadata": {},
   "outputs": [],
   "source": []
  }
 ],
 "metadata": {
  "kernelspec": {
   "display_name": "Python 3 (ipykernel)",
   "language": "python",
   "name": "python3"
  },
  "language_info": {
   "codemirror_mode": {
    "name": "ipython",
    "version": 3
   },
   "file_extension": ".py",
   "mimetype": "text/x-python",
   "name": "python",
   "nbconvert_exporter": "python",
   "pygments_lexer": "ipython3",
   "version": "3.9.16"
  }
 },
 "nbformat": 4,
 "nbformat_minor": 5
}
